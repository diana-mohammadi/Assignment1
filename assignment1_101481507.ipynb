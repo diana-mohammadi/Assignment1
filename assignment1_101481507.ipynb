{
 "cells": [
  {
   "cell_type": "code",
   "execution_count": null,
   "metadata": {
    "vscode": {
     "languageId": "plaintext"
    }
   },
   "outputs": [],
   "source": [
    "\"\"\"\n",
    "Author: Diana Mohammadi\n",
    "Assignment: 1\n",
    "\"\"\"\n",
    "gym_member = \"Alex Alliton\" #this is a string\n",
    "preferred_wight_kg=20.5 #this is a float\n",
    "highest_reps=25 #this is an integer\n",
    "membership_active=True #this is a boolean\n",
    "\n",
    "#this is a dictionary with keys of the name of the friends and values of the minutes they spent on doing 3 differen exercises (yoga, running, and weightlifting)\n",
    "workout_stats = {\"Alex\":(30,45,60), \"John\":(25,40,55), \"Sara\":(20,35,50)} \n",
    "\n",
    "#create a lost of keys to iteragte through them instead of the dictionary\n",
    "keys = list(workout_stats.keys())\n",
    "\n",
    "for key in keys:\n",
    "    total_min = 0\n",
    "    for i in workout_stats[key]:\n",
    "        total_min += i\n",
    "    workout_stats[f\"{key}_Total\"] = total_min \n",
    "\n",
    "\n",
    "#this is a 2 dimensional list that contains the minutes spent on each exercise by each friend\n",
    "workout_list = [list(workout_stats[key]) for key in workout_stats if not key.endswith(\"_Total\")]\n",
    "    \n",
    "# the minutes spent on Yoga and Running for each friend\n",
    "for i in range(len(workout_list)):\n",
    "    print(f\"\\n{keys[i]}:\")\n",
    "    print(\"Minutes spent on Yoga:\", workout_list[i][0]) \n",
    "    print(\"Minutes spent on Running:\", workout_list[i][1],\"\\n\")\n",
    "print(\"----------------------------------\")\n",
    "# the minutes spent on weightlifting for the last two friends\n",
    "for i in range(1, len(workout_list)):\n",
    "    print(f\"{keys[i]}:\")\n",
    "    print(\"Minutes spent on weightlifting:\", workout_list[i][2],\"\\n\")   \n",
    "print(\"----------------------------------\\n\")\n",
    "for key in workout_stats:\n",
    "    if key.endswith(\"_Total\") and (workout_stats[key] >= 120):\n",
    "        name = key.replace(\"_Total\", \"\")\n",
    "        print(f\"Great job staying active, {name}!\\n\")\n",
    "        \n",
    "print(\"----------------------------------\\n\")\n",
    "nameInput = input(\"Enter the name of the friend: \")\n",
    "if nameInput in workout_stats:\n",
    "    print(f\"minutes spent on yoga: {workout_stats[nameInput][0]}\\n minutes spent on running: {workout_stats[nameInput][1]}\\n minutes spent on weightlifting: {workout_stats[nameInput][2]}\\n total minutes spent: {workout_stats[nameInput+'_Total']}\")\n",
    "else:\n",
    "    print(f\"\\nFriend {nameInput} not found in the records.\")\n",
    "\n",
    "\n",
    "#this is highest and lowest minutes spent on workingout\n",
    "total_values={key:value for key, value in workout_stats.items() if key.endswith(\"_Total\")}\n",
    "max_value = max(total_values.values())\n",
    "min_value = min(total_values.values())\n",
    "\n",
    "for key, value in total_values.items():\n",
    "    name = key.replace(\"_Total\", \"\")\n",
    "    if value == max_value:\n",
    "        print(f\"\\n{name} spent the most time working out with {value} minutes.\")\n",
    "    elif value == min_value:\n",
    "        print(f\"\\n{name} spent the least time working out with {value} minutes.\")\n",
    "\n",
    "        \n",
    "        "
   ]
  }
 ],
 "metadata": {
  "language_info": {
   "name": "python"
  }
 },
 "nbformat": 4,
 "nbformat_minor": 2
}
